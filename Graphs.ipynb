{
 "cells": [
  {
   "cell_type": "code",
   "execution_count": 8,
   "metadata": {},
   "outputs": [],
   "source": [
    "# Dependencies and Setup\n",
    "import matplotlib.pyplot as plt\n",
    "import pandas as pd\n",
    "import numpy as np\n"
   ]
  },
  {
   "cell_type": "code",
   "execution_count": 9,
   "metadata": {},
   "outputs": [],
   "source": [
    "data = \"cleaned_data.csv\""
   ]
  },
  {
   "cell_type": "code",
   "execution_count": 12,
   "metadata": {},
   "outputs": [
    {
     "data": {
      "text/html": [
       "<div>\n",
       "<style scoped>\n",
       "    .dataframe tbody tr th:only-of-type {\n",
       "        vertical-align: middle;\n",
       "    }\n",
       "\n",
       "    .dataframe tbody tr th {\n",
       "        vertical-align: top;\n",
       "    }\n",
       "\n",
       "    .dataframe thead th {\n",
       "        text-align: right;\n",
       "    }\n",
       "</style>\n",
       "<table border=\"1\" class=\"dataframe\">\n",
       "  <thead>\n",
       "    <tr style=\"text-align: right;\">\n",
       "      <th></th>\n",
       "      <th>Unnamed: 0</th>\n",
       "      <th>id</th>\n",
       "      <th>neighbourhood_cleansed</th>\n",
       "      <th>zipcode</th>\n",
       "      <th>latitude</th>\n",
       "      <th>longitude</th>\n",
       "      <th>property_type</th>\n",
       "      <th>price</th>\n",
       "      <th>number_of_reviews</th>\n",
       "      <th>review_scores_rating</th>\n",
       "      <th>reviews_per_month</th>\n",
       "      <th>square_feet</th>\n",
       "      <th>potentian_annual_revenue</th>\n",
       "      <th>Zillow_Avg_Value</th>\n",
       "      <th>yield</th>\n",
       "      <th>rent_squre_foot</th>\n",
       "    </tr>\n",
       "  </thead>\n",
       "  <tbody>\n",
       "    <tr>\n",
       "      <th>0</th>\n",
       "      <td>0</td>\n",
       "      <td>685600</td>\n",
       "      <td>Lawton Park</td>\n",
       "      <td>98199.0</td>\n",
       "      <td>47.655131</td>\n",
       "      <td>-122.407818</td>\n",
       "      <td>House</td>\n",
       "      <td>75.0</td>\n",
       "      <td>8</td>\n",
       "      <td>100.0</td>\n",
       "      <td>0.47</td>\n",
       "      <td>250.0</td>\n",
       "      <td>10950.0</td>\n",
       "      <td>917500</td>\n",
       "      <td>1.193460</td>\n",
       "      <td>43.80</td>\n",
       "    </tr>\n",
       "    <tr>\n",
       "      <th>1</th>\n",
       "      <td>1</td>\n",
       "      <td>281208</td>\n",
       "      <td>Atlantic</td>\n",
       "      <td>98144.0</td>\n",
       "      <td>47.593797</td>\n",
       "      <td>-122.305149</td>\n",
       "      <td>House</td>\n",
       "      <td>196.0</td>\n",
       "      <td>27</td>\n",
       "      <td>98.0</td>\n",
       "      <td>0.57</td>\n",
       "      <td>1300.0</td>\n",
       "      <td>28616.0</td>\n",
       "      <td>707000</td>\n",
       "      <td>4.047525</td>\n",
       "      <td>22.01</td>\n",
       "    </tr>\n",
       "    <tr>\n",
       "      <th>2</th>\n",
       "      <td>2</td>\n",
       "      <td>113951</td>\n",
       "      <td>Atlantic</td>\n",
       "      <td>98144.0</td>\n",
       "      <td>47.597050</td>\n",
       "      <td>-122.299887</td>\n",
       "      <td>House</td>\n",
       "      <td>250.0</td>\n",
       "      <td>10</td>\n",
       "      <td>100.0</td>\n",
       "      <td>0.19</td>\n",
       "      <td>1.0</td>\n",
       "      <td>36500.0</td>\n",
       "      <td>707000</td>\n",
       "      <td>5.162659</td>\n",
       "      <td>36500.00</td>\n",
       "    </tr>\n",
       "    <tr>\n",
       "      <th>3</th>\n",
       "      <td>3</td>\n",
       "      <td>143580</td>\n",
       "      <td>North Beacon Hill</td>\n",
       "      <td>98144.0</td>\n",
       "      <td>47.583787</td>\n",
       "      <td>-122.316770</td>\n",
       "      <td>House</td>\n",
       "      <td>75.0</td>\n",
       "      <td>238</td>\n",
       "      <td>94.0</td>\n",
       "      <td>4.31</td>\n",
       "      <td>120.0</td>\n",
       "      <td>10950.0</td>\n",
       "      <td>707000</td>\n",
       "      <td>1.548798</td>\n",
       "      <td>91.25</td>\n",
       "    </tr>\n",
       "    <tr>\n",
       "      <th>4</th>\n",
       "      <td>4</td>\n",
       "      <td>609610</td>\n",
       "      <td>Columbia City</td>\n",
       "      <td>98144.0</td>\n",
       "      <td>47.569615</td>\n",
       "      <td>-122.293955</td>\n",
       "      <td>House</td>\n",
       "      <td>90.0</td>\n",
       "      <td>15</td>\n",
       "      <td>95.0</td>\n",
       "      <td>0.36</td>\n",
       "      <td>730.0</td>\n",
       "      <td>13140.0</td>\n",
       "      <td>707000</td>\n",
       "      <td>1.858557</td>\n",
       "      <td>18.00</td>\n",
       "    </tr>\n",
       "  </tbody>\n",
       "</table>\n",
       "</div>"
      ],
      "text/plain": [
       "   Unnamed: 0      id neighbourhood_cleansed  zipcode   latitude   longitude  \\\n",
       "0           0  685600            Lawton Park  98199.0  47.655131 -122.407818   \n",
       "1           1  281208               Atlantic  98144.0  47.593797 -122.305149   \n",
       "2           2  113951               Atlantic  98144.0  47.597050 -122.299887   \n",
       "3           3  143580      North Beacon Hill  98144.0  47.583787 -122.316770   \n",
       "4           4  609610          Columbia City  98144.0  47.569615 -122.293955   \n",
       "\n",
       "  property_type  price  number_of_reviews  review_scores_rating  \\\n",
       "0         House   75.0                  8                 100.0   \n",
       "1         House  196.0                 27                  98.0   \n",
       "2         House  250.0                 10                 100.0   \n",
       "3         House   75.0                238                  94.0   \n",
       "4         House   90.0                 15                  95.0   \n",
       "\n",
       "   reviews_per_month  square_feet  potentian_annual_revenue  Zillow_Avg_Value  \\\n",
       "0               0.47        250.0                   10950.0            917500   \n",
       "1               0.57       1300.0                   28616.0            707000   \n",
       "2               0.19          1.0                   36500.0            707000   \n",
       "3               4.31        120.0                   10950.0            707000   \n",
       "4               0.36        730.0                   13140.0            707000   \n",
       "\n",
       "      yield  rent_squre_foot  \n",
       "0  1.193460            43.80  \n",
       "1  4.047525            22.01  \n",
       "2  5.162659         36500.00  \n",
       "3  1.548798            91.25  \n",
       "4  1.858557            18.00  "
      ]
     },
     "execution_count": 12,
     "metadata": {},
     "output_type": "execute_result"
    }
   ],
   "source": [
    "merged_df = pd.read_csv(data)\n",
    "merged_df.head()"
   ]
  },
  {
   "cell_type": "code",
   "execution_count": 13,
   "metadata": {},
   "outputs": [
    {
     "data": {
      "text/plain": [
       "0    98199.0\n",
       "1    98144.0\n",
       "2    98144.0\n",
       "3    98144.0\n",
       "4    98144.0\n",
       "Name: zipcode, dtype: float64"
      ]
     },
     "execution_count": 13,
     "metadata": {},
     "output_type": "execute_result"
    }
   ],
   "source": [
    "zipcode = merged_df[\"zipcode\"]\n",
    "zipcode.head()"
   ]
  },
  {
   "cell_type": "code",
   "execution_count": 14,
   "metadata": {},
   "outputs": [
    {
     "data": {
      "text/plain": [
       "0      8\n",
       "1     27\n",
       "2     10\n",
       "3    238\n",
       "4     15\n",
       "Name: number_of_reviews, dtype: int64"
      ]
     },
     "execution_count": 14,
     "metadata": {},
     "output_type": "execute_result"
    }
   ],
   "source": [
    "reviews = merged_df[\"number_of_reviews\"]\n",
    "reviews.head()"
   ]
  },
  {
   "cell_type": "code",
   "execution_count": 15,
   "metadata": {},
   "outputs": [
    {
     "data": {
      "image/png": "[encoded data removed]",
      "text/plain": [
       "<Figure size 432x288 with 1 Axes>"
      ]
     },
     "metadata": {
      "needs_background": "light"
     },
     "output_type": "display_data"
    },
    {
     "data": {
      "text/plain": [
       "<Figure size 432x288 with 0 Axes>"
      ]
     },
     "metadata": {},
     "output_type": "display_data"
    }
   ],
   "source": [
    "plt.scatter(zipcode,reviews,marker=\"o\", facecolors=\"red\",\n",
    "           edgecolors=\"black\",s=reviews,alpha=0.75)\n",
    "plt.title(\"Zipcodes in Seattle that has the most reviews\")\n",
    "plt.xlabel(\"Zipcodes\")\n",
    "plt.ylabel(\"Reviews\")\n",
    "plt.xlim(98095,98150)\n",
    "plt.show()\n",
    "plt.savefig(\"Images/Reviews_Vs_Zipcode.png\")"
   ]
  },
  {
   "cell_type": "code",
   "execution_count": 16,
   "metadata": {},
   "outputs": [
    {
     "data": {
      "text/plain": [
       "0     250.0\n",
       "1    1300.0\n",
       "2       1.0\n",
       "3     120.0\n",
       "4     730.0\n",
       "Name: square_feet, dtype: float64"
      ]
     },
     "execution_count": 16,
     "metadata": {},
     "output_type": "execute_result"
    }
   ],
   "source": [
    "square_feet= merged_df[\"square_feet\"]\n",
    "square_feet.head()"
   ]
  },
  {
   "cell_type": "code",
   "execution_count": 17,
   "metadata": {},
   "outputs": [
    {
     "data": {
      "text/plain": [
       "0    10950.0\n",
       "1    28616.0\n",
       "2    36500.0\n",
       "3    10950.0\n",
       "4    13140.0\n",
       "Name: potentian_annual_revenue, dtype: float64"
      ]
     },
     "execution_count": 17,
     "metadata": {},
     "output_type": "execute_result"
    }
   ],
   "source": [
    "potentian_annual_revenue = merged_df[\"potentian_annual_revenue\"]\n",
    "potentian_annual_revenue.head()"
   ]
  },
  {
   "cell_type": "code",
   "execution_count": 18,
   "metadata": {
    "scrolled": true
   },
   "outputs": [
    {
     "data": {
      "image/png": "[encoded data removed]",
      "text/plain": [
       "<Figure size 432x288 with 1 Axes>"
      ]
     },
     "metadata": {
      "needs_background": "light"
     },
     "output_type": "display_data"
    },
    {
     "data": {
      "text/plain": [
       "<Figure size 432x288 with 0 Axes>"
      ]
     },
     "metadata": {},
     "output_type": "display_data"
    }
   ],
   "source": [
    "plt.scatter(zipcode,square_feet,marker=\"s\", facecolors=\"orange\",\n",
    "           edgecolors=\"black\",alpha=1)\n",
    "plt.title(\"Square Feet Housing in Seattle in each Zipcode Location\")\n",
    "plt.xlabel(\"Zipcodes\")\n",
    "plt.ylabel(\"Square Feet\")\n",
    "plt.xlim(98095,98150)\n",
    "plt.show()\n",
    "plt.savefig(\"Images/Square_Feet_Housing.png\")"
   ]
  },
  {
   "cell_type": "code",
   "execution_count": 19,
   "metadata": {},
   "outputs": [
    {
     "data": {
      "image/png": "[encoded data removed]",
      "text/plain": [
       "<Figure size 432x288 with 1 Axes>"
      ]
     },
     "metadata": {
      "needs_background": "light"
     },
     "output_type": "display_data"
    },
    {
     "data": {
      "text/plain": [
       "<Figure size 432x288 with 0 Axes>"
      ]
     },
     "metadata": {},
     "output_type": "display_data"
    }
   ],
   "source": [
    "plt.scatter(zipcode,potentian_annual_revenue,marker=\"^\", facecolors=\"blue\",\n",
    "           edgecolors=\"black\")\n",
    "plt.title(\"Potential Annual Revenue in Seattle in each Zipcode Location\")\n",
    "plt.xlabel(\"Zipcodes\")\n",
    "plt.ylabel(\"Potential Annual Revenue\")\n",
    "plt.xlim(98095,98150)\n",
    "plt.ylim(7000, 60000)\n",
    "plt.show()\n",
    "plt.savefig(\"Images/Potential_Annual_Revenue.png\")"
   ]
  },
  {
   "cell_type": "code",
   "execution_count": 20,
   "metadata": {},
   "outputs": [
    {
     "data": {
      "text/plain": [
       "House              47\n",
       "Apartment          37\n",
       "Chalet              1\n",
       "Other               1\n",
       "Condominium         1\n",
       "Cabin               1\n",
       "Boat                1\n",
       "Bed & Breakfast     1\n",
       "Name: property_type, dtype: int64"
      ]
     },
     "execution_count": 20,
     "metadata": {},
     "output_type": "execute_result"
    }
   ],
   "source": [
    "property_type= merged_df[\"property_type\"].value_counts()\n",
    "property_type"
   ]
  },
  {
   "cell_type": "code",
   "execution_count": 22,
   "metadata": {},
   "outputs": [],
   "source": [
    "\n",
    "sizes = [220, 95, 80, 100]\n",
    "colors = [\"red\",\"orange\",\"lightcoral\",\"lightskyblue\",\"red\",\"orange\",\"lightcoral\",\"lightskyblue\"]\n",
    "explode = (0.1,0,0,0)"
   ]
  },
  {
   "cell_type": "code",
   "execution_count": 23,
   "metadata": {},
   "outputs": [
    {
     "ename": "TypeError",
     "evalue": "pie() missing 1 required positional argument: 'x'",
     "output_type": "error",
     "traceback": [
      "\u001b[1;31m---------------------------------------------------------------------------\u001b[0m",
      "\u001b[1;31mTypeError\u001b[0m                                 Traceback (most recent call last)",
      "\u001b[1;32m<ipython-input-23-4c264f8d2afd>\u001b[0m in \u001b[0;36m<module>\u001b[1;34m()\u001b[0m\n\u001b[0;32m      1\u001b[0m plt.pie(explode=explode,labels=property_type,colors=colors,\n\u001b[1;32m----> 2\u001b[1;33m        autopct=\"%1.1f%%\",shadow=True,startangle=140)\n\u001b[0m\u001b[0;32m      3\u001b[0m \u001b[0mplt\u001b[0m\u001b[1;33m.\u001b[0m\u001b[0maxis\u001b[0m\u001b[1;33m(\u001b[0m\u001b[1;34m\"equal\"\u001b[0m\u001b[1;33m)\u001b[0m\u001b[1;33m\u001b[0m\u001b[0m\n",
      "\u001b[1;31mTypeError\u001b[0m: pie() missing 1 required positional argument: 'x'"
     ]
    }
   ],
   "source": [
    "plt.pie(explode=explode,labels=property_type,colors=colors,\n",
    "       autopct=\"%1.1f%%\",shadow=True,startangle=140)\n",
    "plt.axis(\"equal\")"
   ]
  },
  {
   "cell_type": "code",
   "execution_count": 24,
   "metadata": {},
   "outputs": [],
   "source": [
    "sizes = [220, 95, 80, 100]\n",
    "colors = [\"red\",\"orange\",\"lightcoral\",\"lightskyblue\",\"red\",\"orange\",\"lightcoral\",\"lightskyblue\"]\n",
    "explode = (0.1,0,0,0)"
   ]
  },
  {
   "cell_type": "code",
   "execution_count": null,
   "metadata": {},
   "outputs": [],
   "source": []
  }
 ],
 "metadata": {
  "kernelspec": {
   "display_name": "Python 3",
   "language": "python",
   "name": "python3"
  },
  "language_info": {
   "codemirror_mode": {
    "name": "ipython",
    "version": 3
   },
   "file_extension": ".py",
   "mimetype": "text/x-python",
   "name": "python",
   "nbconvert_exporter": "python",
   "pygments_lexer": "ipython3",
   "version": "3.7.0"
  }
 },
 "nbformat": 4,
 "nbformat_minor": 2
}
